{
 "cells": [
  {
   "cell_type": "markdown",
   "metadata": {},
   "source": [
    "# Programming for Data Analysis_ Assignment 1_ Alec Reid_ Student No: G00411003"
   ]
  },
  {
   "cell_type": "markdown",
   "metadata": {},
   "source": [
    "**Note for me No:1** *so this is my notebook for the Programming for Data Analysis assignment (PfDA), I am using VScode to create the notebook - I have linked this notebook to my Github repository yet - I need to figure out how to do that - I will use these'notes for me' to record my thinking throughout completing the project and so I can easilt pick uo from where I left off, I am too late startign this project, the deadline has already past, so the plan is to move efficienctly through the tasks involved and demonstrate that I have participated in the learning, I must let Brian now that I have missed the deadline and won't have a submission anytime soon* "
   ]
  },
  {
   "cell_type": "markdown",
   "metadata": {},
   "source": [
    "**Note 2** *I could see if there is anything useful on the copernicus data source, it looks like there is data availabe on temperature, salinity, depth, Long + Lat,*\n",
    "1. I could get co-ordinates of every blue flag beach and investigate whether variations in the temp/salinty/depth makes for a better or worse beach\n",
    "2. I could identify the co-ordinates of each oyster farm and map the depth at site,temperature and salinty for the month of August - and set danger thresholds and idnetify which sites are most vulnerable to algae blooms and where seed is unlily to survive due to time out of water.\n",
    "3. I could map based on salinty and temperature which oyster farms are most likly to spawn in august - so identify where diploid oysters would be a problem.\n"
   ]
  },
  {
   "cell_type": "markdown",
   "metadata": {},
   "source": [
    "**Note 3** *The file I can download is in standard netCDF file format. I need to use the following modules to plot a netCDF file - it would be good to add a table in my notebook describing the different type of modules I will use* "
   ]
  },
  {
   "cell_type": "markdown",
   "metadata": {},
   "source": [
    "|Python Module| Description |\n",
    "|------|-------------|\n",
    "|**xarray**| A python package that allows you to work with multi-dimensional arrays (an array is a collection of items of the same data type stored at contiguos memory locations)|\n",
    "|**matplotlib**| is a comprehensive library for creating static, animated and interactive visualisations in python|\n",
    "|**cartopy**| Is a python package designef for geospatial data processing in order to produce maps and other geospatial data analyses| \n"
   ]
  }
 ],
 "metadata": {
  "language_info": {
   "name": "python"
  }
 },
 "nbformat": 4,
 "nbformat_minor": 2
}
